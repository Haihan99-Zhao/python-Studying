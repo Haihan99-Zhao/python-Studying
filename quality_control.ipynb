{
 "cells": [
  {
   "cell_type": "code",
   "execution_count": null,
   "id": "bbfc31e9-c1d0-4e2e-a72a-e0c7dc8cb4bb",
   "metadata": {},
   "outputs": [],
   "source": [
    "import matplotlib.pyplot as plt\n",
    "import quality_control as qc\n",
    "import numpy as np\n",
    "import importlib"
   ]
  },
  {
   "cell_type": "code",
   "execution_count": null,
   "id": "9ba14ea7-db92-4ff6-8e39-20e797fe2a6d",
   "metadata": {},
   "outputs": [],
   "source": [
    "# Problem 1\n",
    "# Note: importlib.reload(qc) forces Jupyter to re-import your module (with your new changes).\n",
    "importlib.reload(qc)\n",
    "importlib.reload(qc);\n",
    "clock_RGB = qc.read_image('clock_images/batch_0/clock_12.png', show=True)\n",
    "assert isinstance(clock_RGB, np.ndarray)\n",
    "assert clock_RGB.shape == (101, 101, 3)\n",
    "print('Test passed.')\n"
   ]
  },
  {
   "cell_type": "code",
   "execution_count": null,
   "id": "c1fd8b58-5f67-4784-9708-4eca9a79125e",
   "metadata": {},
   "outputs": [],
   "source": [
    "importlib.reload(qc)\n",
    "clock_RGB = qc.read_image('testing/task2_7x7.png', show = True)"
   ]
  },
  {
   "cell_type": "code",
   "execution_count": null,
   "id": "de000ff9",
   "metadata": {},
   "outputs": [],
   "source": [
    "importlib.reload(qc);\n",
    "\n",
    "clock_RGB = qc.read_image('testing/task2_7x7.png')\n",
    "\n",
    "# Use this instead in case your read_image() function is not working\n",
    "# clock_RGB = np.load('testing/task2_7x7.npy')\n",
    "\n",
    "hour_pixels, minute_pixels = qc.get_clock_hands(clock_RGB)\n",
    "print(hour_pixels)\n",
    "print(minute_pixels)\n",
    "np.testing.assert_equal(hour_pixels,\n",
    "                        np.array([[1, 1], [2, 2]]))\n",
    "np.testing.assert_equal(minute_pixels,\n",
    "                        np.array([[3, 3], [4, 3], [4, 4], [5, 4], [6, 5]]))\n",
    "\n",
    "print('Test passed.')"
   ]
  },
  {
   "cell_type": "code",
   "execution_count": null,
   "id": "31bf4d4a",
   "metadata": {},
   "outputs": [],
   "source": [
    "importlib.reload(qc);\n",
    "\n",
    "clock_RGB = qc.read_image('clock_images/batch_0/clock_12.png')\n",
    "\n",
    "hour_pixels, minute_pixels = qc.get_clock_hands(clock_RGB)\n",
    "print(hour_pixels)\n",
    "#arr = np.array(hour_pixels)\n",
    "#print(arr[:,0])\n",
    "print(minute_pixels)\n",
    "print(len(minute_pixels))"
   ]
  },
  {
   "cell_type": "code",
   "execution_count": 58,
   "id": "f6109ef8",
   "metadata": {},
   "outputs": [
    {
     "name": "stdout",
     "output_type": "stream",
     "text": [
      "2.037762507684056\n",
      "5.433152558268037\n",
      "Test passed.\n"
     ]
    }
   ],
   "source": [
    "import numpy as np\n",
    "importlib.reload(qc);\n",
    "hour_pixels = np.loadtxt('testing/task3_hourhand.txt')\n",
    "minute_pixels = np.loadtxt('testing/task3_minutehand.txt')\n",
    "\n",
    "angle_hour = qc.get_angle(hour_pixels)\n",
    "angle_minute = qc.get_angle(minute_pixels)\n",
    "print(angle_hour)\n",
    "print(angle_minute)\n",
    "#assert round(angle_hour, 1) == 2.0\n",
    "#assert round(angle_minute, 1) == 5.4\n",
    "print('Test passed.')"
   ]
  },
  {
   "cell_type": "code",
   "execution_count": 59,
   "id": "fc33cd1a",
   "metadata": {},
   "outputs": [
    {
     "name": "stdout",
     "output_type": "stream",
     "text": [
      "02:55\n",
      "550\n",
      "Test passed.\n"
     ]
    }
   ],
   "source": [
    "importlib.reload(qc);\n",
    "digital_time = qc.analog_to_digital(np.pi/3, 11*np.pi/6)\n",
    "print(digital_time)\n",
    "print(int(digital_time[-2:])*10)\n",
    "assert digital_time == '02:55'\n",
    "print('Test passed.')"
   ]
  },
  {
   "cell_type": "code",
   "execution_count": 61,
   "id": "815de78e",
   "metadata": {},
   "outputs": [
    {
     "name": "stdout",
     "output_type": "stream",
     "text": [
      "-115\n"
     ]
    },
    {
     "ename": "AssertionError",
     "evalue": "",
     "output_type": "error",
     "traceback": [
      "\u001b[1;31m---------------------------------------------------------------------------\u001b[0m",
      "\u001b[1;31mAssertionError\u001b[0m                            Traceback (most recent call last)",
      "Cell \u001b[1;32mIn[61], line 4\u001b[0m\n\u001b[0;32m      2\u001b[0m diff \u001b[38;5;241m=\u001b[39m qc\u001b[38;5;241m.\u001b[39mcheck_alignment(np\u001b[38;5;241m.\u001b[39mpi\u001b[38;5;241m/\u001b[39m\u001b[38;5;241m3\u001b[39m, \u001b[38;5;241m11\u001b[39m\u001b[38;5;241m*\u001b[39mnp\u001b[38;5;241m.\u001b[39mpi\u001b[38;5;241m/\u001b[39m\u001b[38;5;241m6\u001b[39m)\n\u001b[0;32m      3\u001b[0m \u001b[38;5;28mprint\u001b[39m(diff)\n\u001b[1;32m----> 4\u001b[0m \u001b[38;5;28;01massert\u001b[39;00m diff \u001b[38;5;241m==\u001b[39m \u001b[38;5;241m-\u001b[39m\u001b[38;5;241m5\u001b[39m\n\u001b[0;32m      5\u001b[0m \u001b[38;5;28mprint\u001b[39m(\u001b[38;5;124m'\u001b[39m\u001b[38;5;124mTest passed.\u001b[39m\u001b[38;5;124m'\u001b[39m)\n",
      "\u001b[1;31mAssertionError\u001b[0m: "
     ]
    }
   ],
   "source": [
    "importlib.reload(qc);\n",
    "diff = qc.check_alignment(np.pi/3, 11*np.pi/6)\n",
    "print(diff)\n",
    "assert diff == -5\n",
    "print('Test passed.')"
   ]
  },
  {
   "cell_type": "code",
   "execution_count": null,
   "id": "d993df6d",
   "metadata": {},
   "outputs": [],
   "source": [
    "importlib.reload(qc);\n",
    "for b in range(5):\n",
    "    qc.validate_batch(f'clock_images/batch_{b}', 4)"
   ]
  }
 ],
 "metadata": {
  "kernelspec": {
   "display_name": "base",
   "language": "python",
   "name": "python3"
  },
  "language_info": {
   "codemirror_mode": {
    "name": "ipython",
    "version": 3
   },
   "file_extension": ".py",
   "mimetype": "text/x-python",
   "name": "python",
   "nbconvert_exporter": "python",
   "pygments_lexer": "ipython3",
   "version": "3.12.4"
  }
 },
 "nbformat": 4,
 "nbformat_minor": 5
}
